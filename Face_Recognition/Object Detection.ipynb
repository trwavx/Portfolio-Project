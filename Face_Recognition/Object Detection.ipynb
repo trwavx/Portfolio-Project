{
 "cells": [
  {
   "cell_type": "code",
   "execution_count": 1,
   "id": "db296166",
   "metadata": {},
   "outputs": [],
   "source": [
    "import cv2 as cv"
   ]
  },
  {
   "cell_type": "code",
   "execution_count": 2,
   "id": "0c4ac362",
   "metadata": {},
   "outputs": [],
   "source": [
    "BLUE = (255, 0, 0)\n",
    "GREEN = (0, 255, 0)\n",
    "RED = (0, 0, 255)"
   ]
  },
  {
   "cell_type": "code",
   "execution_count": 3,
   "id": "80e7919d",
   "metadata": {},
   "outputs": [],
   "source": [
    "FONT = cv.FONT_HERSHEY_COMPLEX"
   ]
  },
  {
   "cell_type": "code",
   "execution_count": 4,
   "id": "7fc7a3fe",
   "metadata": {},
   "outputs": [],
   "source": [
    "CONFIDENCE_THRESHOLD = 0.4\n",
    "NMS_THRESHOLD = 0.3"
   ]
  },
  {
   "cell_type": "code",
   "execution_count": 5,
   "id": "199bf93d",
   "metadata": {},
   "outputs": [],
   "source": [
    "net = cv.dnn.readNet('dnn_model/yolov4-tiny.cfg', 'dnn_model/yolov4-tiny.weights')\n",
    "model = cv.dnn_DetectionModel(net)\n",
    "model.setInputParams(size=(320, 320), scale=1/255)"
   ]
  },
  {
   "cell_type": "code",
   "execution_count": 6,
   "id": "750b392f",
   "metadata": {},
   "outputs": [],
   "source": [
    "classes = []\n",
    "\n",
    "with open('dnn_model/classes.txt', 'r') as file:\n",
    "    for class_name in file.readlines():\n",
    "        class_name = class_name.strip()\n",
    "        classes.append(class_name)"
   ]
  },
  {
   "cell_type": "code",
   "execution_count": 7,
   "id": "e72a121f",
   "metadata": {},
   "outputs": [],
   "source": [
    "# capture = cv.VideoCapture('Videos/Traffic_1.mp4')\n",
    "capture = cv.VideoCapture('Videos/Traffic_2.mp4')"
   ]
  },
  {
   "cell_type": "code",
   "execution_count": 8,
   "id": "f9537de2",
   "metadata": {},
   "outputs": [],
   "source": [
    "while True:\n",
    "    isTrue, frame = capture.read()\n",
    "    class_ids, scores, bboxes = model.detect(frame, CONFIDENCE_THRESHOLD, NMS_THRESHOLD)\n",
    "    \n",
    "    for (class_id, scores, bbox) in zip(class_ids, scores, bboxes):\n",
    "        (x, y, w, h) = bbox\n",
    "        class_name = classes[class_id]\n",
    "        \n",
    "        cv.putText(frame, class_name, (x, y - 10), FONT, 1, GREEN, 2)\n",
    "        cv.rectangle(frame, (x, y), (x + w, y + h), GREEN, 2)\n",
    "        \n",
    "    cv.imshow('Object Detection w/ OpenCV', frame)\n",
    "    \n",
    "    if cv.waitKey(30) & 0xFF==27:\n",
    "        break"
   ]
  },
  {
   "cell_type": "code",
   "execution_count": 9,
   "id": "6dd985d5",
   "metadata": {},
   "outputs": [],
   "source": [
    "capture.release()\n",
    "cv.destroyAllWindows()"
   ]
  }
 ],
 "metadata": {
  "kernelspec": {
   "display_name": "Python 3 (ipykernel)",
   "language": "python",
   "name": "python3"
  },
  "language_info": {
   "codemirror_mode": {
    "name": "ipython",
    "version": 3
   },
   "file_extension": ".py",
   "mimetype": "text/x-python",
   "name": "python",
   "nbconvert_exporter": "python",
   "pygments_lexer": "ipython3",
   "version": "3.10.8"
  }
 },
 "nbformat": 4,
 "nbformat_minor": 5
}
