{
 "cells": [
  {
   "cell_type": "code",
   "execution_count": 1,
   "id": "28d366fa",
   "metadata": {},
   "outputs": [],
   "source": [
    "import cv2 as cv"
   ]
  },
  {
   "cell_type": "code",
   "execution_count": 2,
   "id": "44c5c39f",
   "metadata": {},
   "outputs": [],
   "source": [
    "KNOWN_DISTANCE = 40\n",
    "KNOWN_WIDTH = 15"
   ]
  },
  {
   "cell_type": "code",
   "execution_count": 3,
   "id": "f2859a43",
   "metadata": {},
   "outputs": [],
   "source": [
    "BLUE = (255, 0, 0)\n",
    "GREEN = (0, 255, 0)\n",
    "RED = (0, 0 ,255)"
   ]
  },
  {
   "cell_type": "code",
   "execution_count": 4,
   "id": "3b3d5a06",
   "metadata": {},
   "outputs": [],
   "source": [
    "FONT = cv.FONT_HERSHEY_COMPLEX"
   ]
  },
  {
   "cell_type": "code",
   "execution_count": 5,
   "id": "c05a3833",
   "metadata": {},
   "outputs": [],
   "source": [
    "faces_haarCascade = cv.CascadeClassifier('haarcascades/haarcascade_frontalface_default.xml')"
   ]
  },
  {
   "cell_type": "code",
   "execution_count": 6,
   "id": "e9bb2feb",
   "metadata": {},
   "outputs": [],
   "source": [
    "def faces_data(img):\n",
    "    img_width = 0\n",
    "    img_gray = cv.cvtColor(img, cv.COLOR_BGR2GRAY)\n",
    "    faces_dtc = faces_haarCascade.detectMultiScale(img_gray, scaleFactor=1.6, minNeighbors=6)\n",
    "    \n",
    "    for (x, y, w, h) in faces_dtc:\n",
    "        cv.rectangle(img, (x, y), (x + w, y + h), BLUE, 2)\n",
    "        \n",
    "        img_width = w\n",
    "        \n",
    "    return img_width"
   ]
  },
  {
   "cell_type": "code",
   "execution_count": 7,
   "id": "2e364a78",
   "metadata": {},
   "outputs": [],
   "source": [
    "def focal_length(measured_distance, real_width, width_in_rf_image):\n",
    "    focal_length = (width_in_rf_image * measured_distance) / real_width\n",
    "    \n",
    "    return focal_length"
   ]
  },
  {
   "cell_type": "code",
   "execution_count": 8,
   "id": "516f3bee",
   "metadata": {},
   "outputs": [],
   "source": [
    "def distance_finder(focal_length, real_face_width, face_width_in_frame):\n",
    "    distance = (real_face_width * focal_length) / face_width_in_frame\n",
    "    \n",
    "    return distance"
   ]
  },
  {
   "cell_type": "code",
   "execution_count": 9,
   "id": "992672a0",
   "metadata": {},
   "outputs": [
    {
     "name": "stdout",
     "output_type": "stream",
     "text": [
      "Focal Length = 1074.6666666666667\n"
     ]
    }
   ],
   "source": [
    "img = cv.imread(r'Images/Vu Truong Anh/1.jpg')\n",
    "\n",
    "img_width = faces_data(img)\n",
    "img_focal_length = focal_length(KNOWN_DISTANCE, KNOWN_WIDTH, img_width)\n",
    "\n",
    "print(f'Focal Length = {img_focal_length}')"
   ]
  },
  {
   "cell_type": "code",
   "execution_count": 10,
   "id": "fc60dfdc",
   "metadata": {},
   "outputs": [
    {
     "data": {
      "text/plain": [
       "True"
      ]
     },
     "execution_count": 10,
     "metadata": {},
     "output_type": "execute_result"
    }
   ],
   "source": [
    "capture = cv.VideoCapture(0)\n",
    "\n",
    "capture.set(cv.CAP_PROP_FRAME_WIDTH, 1280)\n",
    "capture.set(cv.CAP_PROP_FRAME_HEIGHT, 720)"
   ]
  },
  {
   "cell_type": "code",
   "execution_count": 11,
   "id": "8618241c",
   "metadata": {},
   "outputs": [],
   "source": [
    "while True:\n",
    "    isTrue, frame = capture.read()\n",
    "    frame_width = faces_data(frame)\n",
    "    \n",
    "    if frame_width != 0:\n",
    "        frame_distance_finder = distance_finder(img_focal_length, KNOWN_WIDTH, frame_width)\n",
    "        \n",
    "        cv.putText(frame, f'Distance = {round(frame_distance_finder, 2)}', (50, 50), FONT, 1, RED, 2)\n",
    "        \n",
    "        if frame_distance_finder <= 30:\n",
    "            cv.putText(frame, 'YOU ARE TOO CLOSE! PLEASE STAND BACK!', (300, frame.shape[0] // 2), FONT, 1, RED, 2)\n",
    "            \n",
    "    cv.imshow('Estimate the Distance w/ OpenCV', frame)\n",
    "    \n",
    "    if cv.waitKey(30) & 0xFF==27:\n",
    "        break"
   ]
  },
  {
   "cell_type": "code",
   "execution_count": 12,
   "id": "f3b4ff0b",
   "metadata": {},
   "outputs": [],
   "source": [
    "capture.release()\n",
    "cv.destroyAllWindows()"
   ]
  }
 ],
 "metadata": {
  "kernelspec": {
   "display_name": "Python 3 (ipykernel)",
   "language": "python",
   "name": "python3"
  },
  "language_info": {
   "codemirror_mode": {
    "name": "ipython",
    "version": 3
   },
   "file_extension": ".py",
   "mimetype": "text/x-python",
   "name": "python",
   "nbconvert_exporter": "python",
   "pygments_lexer": "ipython3",
   "version": "3.10.8"
  }
 },
 "nbformat": 4,
 "nbformat_minor": 5
}
