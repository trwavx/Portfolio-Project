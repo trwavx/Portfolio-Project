{
 "cells": [
  {
   "cell_type": "code",
   "execution_count": 1,
   "id": "317115e5",
   "metadata": {},
   "outputs": [],
   "source": [
    "import cv2 as cv"
   ]
  },
  {
   "cell_type": "code",
   "execution_count": 2,
   "id": "4f3f5644",
   "metadata": {},
   "outputs": [],
   "source": [
    "BLUE = (255, 0, 0)\n",
    "GREEN = (0, 255, 0)\n",
    "RED = (0, 0, 255)"
   ]
  },
  {
   "cell_type": "code",
   "execution_count": 3,
   "id": "0548b054",
   "metadata": {},
   "outputs": [],
   "source": [
    "FONT = cv.FONT_HERSHEY_COMPLEX"
   ]
  },
  {
   "cell_type": "code",
   "execution_count": 4,
   "id": "e450ad20",
   "metadata": {},
   "outputs": [
    {
     "data": {
      "text/plain": [
       "True"
      ]
     },
     "execution_count": 4,
     "metadata": {},
     "output_type": "execute_result"
    }
   ],
   "source": [
    "capture = cv.VideoCapture(0)\n",
    "\n",
    "capture.set(cv.CAP_PROP_FRAME_WIDTH, 1280)\n",
    "capture.set(cv.CAP_PROP_FRAME_HEIGHT, 720)"
   ]
  },
  {
   "cell_type": "code",
   "execution_count": 5,
   "id": "3476ca25",
   "metadata": {},
   "outputs": [],
   "source": [
    "faces_haarCascade = cv.CascadeClassifier('haarcascades/haarcascade_frontalface_default.xml')"
   ]
  },
  {
   "cell_type": "code",
   "execution_count": 6,
   "id": "00654967",
   "metadata": {},
   "outputs": [],
   "source": [
    "while True:\n",
    "    isTrue, frame = capture.read()\n",
    "    frame_gray = cv.cvtColor(frame, cv.COLOR_BGR2GRAY)\n",
    "    face_dtc = faces_haarCascade.detectMultiScale(frame_gray, scaleFactor=1.6, minNeighbors=6)\n",
    "    \n",
    "    for (x, y, w, h) in face_dtc:\n",
    "        cv.rectangle(frame, (x, y), (x + w, y + h), GREEN, 2)\n",
    "    \n",
    "    cv.imshow('Face Detection w/ OpenCV', frame)\n",
    "    \n",
    "    if cv.waitKey(30) & 0xFF==27:\n",
    "        break"
   ]
  },
  {
   "cell_type": "code",
   "execution_count": 7,
   "id": "d9f255ab",
   "metadata": {},
   "outputs": [],
   "source": [
    "capture.release()\n",
    "cv.destroyAllWindows()"
   ]
  }
 ],
 "metadata": {
  "kernelspec": {
   "display_name": "Python 3 (ipykernel)",
   "language": "python",
   "name": "python3"
  },
  "language_info": {
   "codemirror_mode": {
    "name": "ipython",
    "version": 3
   },
   "file_extension": ".py",
   "mimetype": "text/x-python",
   "name": "python",
   "nbconvert_exporter": "python",
   "pygments_lexer": "ipython3",
   "version": "3.10.8"
  }
 },
 "nbformat": 4,
 "nbformat_minor": 5
}
