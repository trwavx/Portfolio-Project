{
 "cells": [
  {
   "cell_type": "code",
   "execution_count": 1,
   "id": "b97c12ee",
   "metadata": {
    "_cell_guid": "b1076dfc-b9ad-4769-8c92-a6c4dae69d19",
    "_uuid": "8f2839f25d086af736a60e9eeb907d3b93b6e0e5",
    "execution": {
     "iopub.execute_input": "2022-10-08T12:05:34.098414Z",
     "iopub.status.busy": "2022-10-08T12:05:34.097875Z",
     "iopub.status.idle": "2022-10-08T12:05:34.113004Z",
     "shell.execute_reply": "2022-10-08T12:05:34.111862Z"
    },
    "papermill": {
     "duration": 0.029245,
     "end_time": "2022-10-08T12:05:34.115855",
     "exception": false,
     "start_time": "2022-10-08T12:05:34.086610",
     "status": "completed"
    },
    "tags": []
   },
   "outputs": [
    {
     "name": "stdout",
     "output_type": "stream",
     "text": [
      "/kaggle/input/digit-recognizer/sample_submission.csv\n",
      "/kaggle/input/digit-recognizer/train.csv\n",
      "/kaggle/input/digit-recognizer/test.csv\n"
     ]
    }
   ],
   "source": [
    "# This Python 3 environment comes with many helpful analytics libraries installed\n",
    "# It is defined by the kaggle/python Docker image: https://github.com/kaggle/docker-python\n",
    "# For example, here's several helpful packages to load\n",
    "\n",
    "import numpy as np # linear algebra\n",
    "import pandas as pd # data processing, CSV file I/O (e.g. pd.read_csv)\n",
    "\n",
    "# Input data files are available in the read-only \"../input/\" directory\n",
    "# For example, running this (by clicking run or pressing Shift+Enter) will list all files under the input directory\n",
    "\n",
    "import os\n",
    "for dirname, _, filenames in os.walk('/kaggle/input'):\n",
    "    for filename in filenames:\n",
    "        print(os.path.join(dirname, filename))\n",
    "\n",
    "# You can write up to 20GB to the current directory (/kaggle/working/) that gets preserved as output when you create a version using \"Save & Run All\" \n",
    "# You can also write temporary files to /kaggle/temp/, but they won't be saved outside of the current session"
   ]
  },
  {
   "cell_type": "code",
   "execution_count": 2,
   "id": "3d363e14",
   "metadata": {
    "execution": {
     "iopub.execute_input": "2022-10-08T12:05:34.134537Z",
     "iopub.status.busy": "2022-10-08T12:05:34.133723Z",
     "iopub.status.idle": "2022-10-08T12:05:39.041648Z",
     "shell.execute_reply": "2022-10-08T12:05:39.040666Z"
    },
    "papermill": {
     "duration": 4.919462,
     "end_time": "2022-10-08T12:05:39.044059",
     "exception": false,
     "start_time": "2022-10-08T12:05:34.124597",
     "status": "completed"
    },
    "tags": []
   },
   "outputs": [],
   "source": [
    "df_train = pd.read_csv('../input/digit-recognizer/train.csv')\n",
    "df_test = pd.read_csv('../input/digit-recognizer/test.csv')"
   ]
  },
  {
   "cell_type": "code",
   "execution_count": 3,
   "id": "7e9f81d8",
   "metadata": {
    "execution": {
     "iopub.execute_input": "2022-10-08T12:05:39.063109Z",
     "iopub.status.busy": "2022-10-08T12:05:39.062797Z",
     "iopub.status.idle": "2022-10-08T12:05:39.085183Z",
     "shell.execute_reply": "2022-10-08T12:05:39.084183Z"
    },
    "papermill": {
     "duration": 0.034546,
     "end_time": "2022-10-08T12:05:39.087839",
     "exception": false,
     "start_time": "2022-10-08T12:05:39.053293",
     "status": "completed"
    },
    "tags": []
   },
   "outputs": [
    {
     "data": {
      "text/html": [
       "<div>\n",
       "<style scoped>\n",
       "    .dataframe tbody tr th:only-of-type {\n",
       "        vertical-align: middle;\n",
       "    }\n",
       "\n",
       "    .dataframe tbody tr th {\n",
       "        vertical-align: top;\n",
       "    }\n",
       "\n",
       "    .dataframe thead th {\n",
       "        text-align: right;\n",
       "    }\n",
       "</style>\n",
       "<table border=\"1\" class=\"dataframe\">\n",
       "  <thead>\n",
       "    <tr style=\"text-align: right;\">\n",
       "      <th></th>\n",
       "      <th>label</th>\n",
       "      <th>pixel0</th>\n",
       "      <th>pixel1</th>\n",
       "      <th>pixel2</th>\n",
       "      <th>pixel3</th>\n",
       "      <th>pixel4</th>\n",
       "      <th>pixel5</th>\n",
       "      <th>pixel6</th>\n",
       "      <th>pixel7</th>\n",
       "      <th>pixel8</th>\n",
       "      <th>...</th>\n",
       "      <th>pixel774</th>\n",
       "      <th>pixel775</th>\n",
       "      <th>pixel776</th>\n",
       "      <th>pixel777</th>\n",
       "      <th>pixel778</th>\n",
       "      <th>pixel779</th>\n",
       "      <th>pixel780</th>\n",
       "      <th>pixel781</th>\n",
       "      <th>pixel782</th>\n",
       "      <th>pixel783</th>\n",
       "    </tr>\n",
       "  </thead>\n",
       "  <tbody>\n",
       "    <tr>\n",
       "      <th>0</th>\n",
       "      <td>1</td>\n",
       "      <td>0</td>\n",
       "      <td>0</td>\n",
       "      <td>0</td>\n",
       "      <td>0</td>\n",
       "      <td>0</td>\n",
       "      <td>0</td>\n",
       "      <td>0</td>\n",
       "      <td>0</td>\n",
       "      <td>0</td>\n",
       "      <td>...</td>\n",
       "      <td>0</td>\n",
       "      <td>0</td>\n",
       "      <td>0</td>\n",
       "      <td>0</td>\n",
       "      <td>0</td>\n",
       "      <td>0</td>\n",
       "      <td>0</td>\n",
       "      <td>0</td>\n",
       "      <td>0</td>\n",
       "      <td>0</td>\n",
       "    </tr>\n",
       "    <tr>\n",
       "      <th>1</th>\n",
       "      <td>0</td>\n",
       "      <td>0</td>\n",
       "      <td>0</td>\n",
       "      <td>0</td>\n",
       "      <td>0</td>\n",
       "      <td>0</td>\n",
       "      <td>0</td>\n",
       "      <td>0</td>\n",
       "      <td>0</td>\n",
       "      <td>0</td>\n",
       "      <td>...</td>\n",
       "      <td>0</td>\n",
       "      <td>0</td>\n",
       "      <td>0</td>\n",
       "      <td>0</td>\n",
       "      <td>0</td>\n",
       "      <td>0</td>\n",
       "      <td>0</td>\n",
       "      <td>0</td>\n",
       "      <td>0</td>\n",
       "      <td>0</td>\n",
       "    </tr>\n",
       "    <tr>\n",
       "      <th>2</th>\n",
       "      <td>1</td>\n",
       "      <td>0</td>\n",
       "      <td>0</td>\n",
       "      <td>0</td>\n",
       "      <td>0</td>\n",
       "      <td>0</td>\n",
       "      <td>0</td>\n",
       "      <td>0</td>\n",
       "      <td>0</td>\n",
       "      <td>0</td>\n",
       "      <td>...</td>\n",
       "      <td>0</td>\n",
       "      <td>0</td>\n",
       "      <td>0</td>\n",
       "      <td>0</td>\n",
       "      <td>0</td>\n",
       "      <td>0</td>\n",
       "      <td>0</td>\n",
       "      <td>0</td>\n",
       "      <td>0</td>\n",
       "      <td>0</td>\n",
       "    </tr>\n",
       "    <tr>\n",
       "      <th>3</th>\n",
       "      <td>4</td>\n",
       "      <td>0</td>\n",
       "      <td>0</td>\n",
       "      <td>0</td>\n",
       "      <td>0</td>\n",
       "      <td>0</td>\n",
       "      <td>0</td>\n",
       "      <td>0</td>\n",
       "      <td>0</td>\n",
       "      <td>0</td>\n",
       "      <td>...</td>\n",
       "      <td>0</td>\n",
       "      <td>0</td>\n",
       "      <td>0</td>\n",
       "      <td>0</td>\n",
       "      <td>0</td>\n",
       "      <td>0</td>\n",
       "      <td>0</td>\n",
       "      <td>0</td>\n",
       "      <td>0</td>\n",
       "      <td>0</td>\n",
       "    </tr>\n",
       "    <tr>\n",
       "      <th>4</th>\n",
       "      <td>0</td>\n",
       "      <td>0</td>\n",
       "      <td>0</td>\n",
       "      <td>0</td>\n",
       "      <td>0</td>\n",
       "      <td>0</td>\n",
       "      <td>0</td>\n",
       "      <td>0</td>\n",
       "      <td>0</td>\n",
       "      <td>0</td>\n",
       "      <td>...</td>\n",
       "      <td>0</td>\n",
       "      <td>0</td>\n",
       "      <td>0</td>\n",
       "      <td>0</td>\n",
       "      <td>0</td>\n",
       "      <td>0</td>\n",
       "      <td>0</td>\n",
       "      <td>0</td>\n",
       "      <td>0</td>\n",
       "      <td>0</td>\n",
       "    </tr>\n",
       "  </tbody>\n",
       "</table>\n",
       "<p>5 rows × 785 columns</p>\n",
       "</div>"
      ],
      "text/plain": [
       "   label  pixel0  pixel1  pixel2  pixel3  pixel4  pixel5  pixel6  pixel7  \\\n",
       "0      1       0       0       0       0       0       0       0       0   \n",
       "1      0       0       0       0       0       0       0       0       0   \n",
       "2      1       0       0       0       0       0       0       0       0   \n",
       "3      4       0       0       0       0       0       0       0       0   \n",
       "4      0       0       0       0       0       0       0       0       0   \n",
       "\n",
       "   pixel8  ...  pixel774  pixel775  pixel776  pixel777  pixel778  pixel779  \\\n",
       "0       0  ...         0         0         0         0         0         0   \n",
       "1       0  ...         0         0         0         0         0         0   \n",
       "2       0  ...         0         0         0         0         0         0   \n",
       "3       0  ...         0         0         0         0         0         0   \n",
       "4       0  ...         0         0         0         0         0         0   \n",
       "\n",
       "   pixel780  pixel781  pixel782  pixel783  \n",
       "0         0         0         0         0  \n",
       "1         0         0         0         0  \n",
       "2         0         0         0         0  \n",
       "3         0         0         0         0  \n",
       "4         0         0         0         0  \n",
       "\n",
       "[5 rows x 785 columns]"
      ]
     },
     "execution_count": 3,
     "metadata": {},
     "output_type": "execute_result"
    }
   ],
   "source": [
    "df_train.head(5)"
   ]
  },
  {
   "cell_type": "code",
   "execution_count": 4,
   "id": "1b3c070b",
   "metadata": {
    "execution": {
     "iopub.execute_input": "2022-10-08T12:05:39.107997Z",
     "iopub.status.busy": "2022-10-08T12:05:39.107701Z",
     "iopub.status.idle": "2022-10-08T12:05:39.153595Z",
     "shell.execute_reply": "2022-10-08T12:05:39.152466Z"
    },
    "papermill": {
     "duration": 0.058615,
     "end_time": "2022-10-08T12:05:39.156360",
     "exception": false,
     "start_time": "2022-10-08T12:05:39.097745",
     "status": "completed"
    },
    "tags": []
   },
   "outputs": [
    {
     "name": "stdout",
     "output_type": "stream",
     "text": [
      "<class 'pandas.core.frame.DataFrame'>\n",
      "RangeIndex: 42000 entries, 0 to 41999\n",
      "Columns: 785 entries, label to pixel783\n",
      "dtypes: int64(785)\n",
      "memory usage: 251.5 MB\n"
     ]
    }
   ],
   "source": [
    "df_train.info()"
   ]
  },
  {
   "cell_type": "code",
   "execution_count": 5,
   "id": "7df59857",
   "metadata": {
    "execution": {
     "iopub.execute_input": "2022-10-08T12:05:39.176167Z",
     "iopub.status.busy": "2022-10-08T12:05:39.175866Z",
     "iopub.status.idle": "2022-10-08T12:05:39.197088Z",
     "shell.execute_reply": "2022-10-08T12:05:39.196002Z"
    },
    "papermill": {
     "duration": 0.033482,
     "end_time": "2022-10-08T12:05:39.199549",
     "exception": false,
     "start_time": "2022-10-08T12:05:39.166067",
     "status": "completed"
    },
    "tags": []
   },
   "outputs": [
    {
     "data": {
      "text/plain": [
       "count       785\n",
       "unique        1\n",
       "top       False\n",
       "freq        785\n",
       "dtype: object"
      ]
     },
     "execution_count": 5,
     "metadata": {},
     "output_type": "execute_result"
    }
   ],
   "source": [
    "df_train.isnull().any().describe()"
   ]
  },
  {
   "cell_type": "code",
   "execution_count": 6,
   "id": "59857467",
   "metadata": {
    "execution": {
     "iopub.execute_input": "2022-10-08T12:05:39.218651Z",
     "iopub.status.busy": "2022-10-08T12:05:39.218039Z",
     "iopub.status.idle": "2022-10-08T12:05:39.301740Z",
     "shell.execute_reply": "2022-10-08T12:05:39.300749Z"
    },
    "papermill": {
     "duration": 0.09583,
     "end_time": "2022-10-08T12:05:39.304296",
     "exception": false,
     "start_time": "2022-10-08T12:05:39.208466",
     "status": "completed"
    },
    "tags": []
   },
   "outputs": [],
   "source": [
    "x = df_train.drop(columns=['label'])\n",
    "y = df_train.label"
   ]
  },
  {
   "cell_type": "markdown",
   "id": "d57e3094",
   "metadata": {
    "papermill": {
     "duration": 0.008447,
     "end_time": "2022-10-08T12:05:39.321919",
     "exception": false,
     "start_time": "2022-10-08T12:05:39.313472",
     "status": "completed"
    },
    "tags": []
   },
   "source": [
    "# K Nearest Neighbors"
   ]
  },
  {
   "cell_type": "code",
   "execution_count": 7,
   "id": "0a5e0d83",
   "metadata": {
    "execution": {
     "iopub.execute_input": "2022-10-08T12:05:39.340467Z",
     "iopub.status.busy": "2022-10-08T12:05:39.340114Z",
     "iopub.status.idle": "2022-10-08T12:05:39.344439Z",
     "shell.execute_reply": "2022-10-08T12:05:39.343500Z"
    },
    "papermill": {
     "duration": 0.01608,
     "end_time": "2022-10-08T12:05:39.346469",
     "exception": false,
     "start_time": "2022-10-08T12:05:39.330389",
     "status": "completed"
    },
    "tags": []
   },
   "outputs": [],
   "source": [
    "methods = []\n",
    "accuracy = []"
   ]
  },
  {
   "cell_type": "code",
   "execution_count": 8,
   "id": "f0fc5bc6",
   "metadata": {
    "execution": {
     "iopub.execute_input": "2022-10-08T12:05:39.366307Z",
     "iopub.status.busy": "2022-10-08T12:05:39.364925Z",
     "iopub.status.idle": "2022-10-08T12:05:40.412884Z",
     "shell.execute_reply": "2022-10-08T12:05:40.411924Z"
    },
    "papermill": {
     "duration": 1.059782,
     "end_time": "2022-10-08T12:05:40.415230",
     "exception": false,
     "start_time": "2022-10-08T12:05:39.355448",
     "status": "completed"
    },
    "tags": []
   },
   "outputs": [],
   "source": [
    "# from sklearn.model_selection import GridSearchCV\n",
    "from sklearn.neighbors import KNeighborsClassifier"
   ]
  },
  {
   "cell_type": "code",
   "execution_count": 9,
   "id": "46e707e0",
   "metadata": {
    "execution": {
     "iopub.execute_input": "2022-10-08T12:05:40.435223Z",
     "iopub.status.busy": "2022-10-08T12:05:40.433741Z",
     "iopub.status.idle": "2022-10-08T12:05:40.439243Z",
     "shell.execute_reply": "2022-10-08T12:05:40.438383Z"
    },
    "papermill": {
     "duration": 0.017158,
     "end_time": "2022-10-08T12:05:40.441192",
     "exception": false,
     "start_time": "2022-10-08T12:05:40.424034",
     "status": "completed"
    },
    "tags": []
   },
   "outputs": [],
   "source": [
    "# parameters = {'n_neighbors': [1, 2, 3, 4, 5, 6, 7, 8, 9, 10],\n",
    "#               'algorithm': ['auto', 'ball_tree', 'kd_tree', 'brute'],\n",
    "#               'p': [1,2]}\n",
    "\n",
    "KNN = KNeighborsClassifier()"
   ]
  },
  {
   "cell_type": "code",
   "execution_count": 10,
   "id": "eed68400",
   "metadata": {
    "execution": {
     "iopub.execute_input": "2022-10-08T12:05:40.460743Z",
     "iopub.status.busy": "2022-10-08T12:05:40.459331Z",
     "iopub.status.idle": "2022-10-08T12:05:40.479482Z",
     "shell.execute_reply": "2022-10-08T12:05:40.478593Z"
    },
    "papermill": {
     "duration": 0.03181,
     "end_time": "2022-10-08T12:05:40.481398",
     "exception": false,
     "start_time": "2022-10-08T12:05:40.449588",
     "status": "completed"
    },
    "tags": []
   },
   "outputs": [
    {
     "data": {
      "text/plain": [
       "KNeighborsClassifier()"
      ]
     },
     "execution_count": 10,
     "metadata": {},
     "output_type": "execute_result"
    }
   ],
   "source": [
    "# knn_cv = GridSearchCV(KNN, parameters, cv=10)\n",
    "# knn_cv.fit(x, y)\n",
    "KNN.fit(x, y)"
   ]
  },
  {
   "cell_type": "code",
   "execution_count": 11,
   "id": "094b3e26",
   "metadata": {
    "execution": {
     "iopub.execute_input": "2022-10-08T12:05:40.501069Z",
     "iopub.status.busy": "2022-10-08T12:05:40.500345Z",
     "iopub.status.idle": "2022-10-08T12:05:40.504529Z",
     "shell.execute_reply": "2022-10-08T12:05:40.503723Z"
    },
    "papermill": {
     "duration": 0.015805,
     "end_time": "2022-10-08T12:05:40.506533",
     "exception": false,
     "start_time": "2022-10-08T12:05:40.490728",
     "status": "completed"
    },
    "tags": []
   },
   "outputs": [],
   "source": [
    "# print(\"tuned hpyerparameters:(best parameters) \", knn_cv.best_params_)\n",
    "# print(\"accuracy: \", knn_cv.best_score_)"
   ]
  },
  {
   "cell_type": "code",
   "execution_count": 12,
   "id": "e194495f",
   "metadata": {
    "execution": {
     "iopub.execute_input": "2022-10-08T12:05:40.526173Z",
     "iopub.status.busy": "2022-10-08T12:05:40.524653Z",
     "iopub.status.idle": "2022-10-08T12:08:07.100629Z",
     "shell.execute_reply": "2022-10-08T12:08:07.099637Z"
    },
    "papermill": {
     "duration": 146.593231,
     "end_time": "2022-10-08T12:08:07.108408",
     "exception": false,
     "start_time": "2022-10-08T12:05:40.515177",
     "status": "completed"
    },
    "tags": []
   },
   "outputs": [
    {
     "data": {
      "text/plain": [
       "0.9791428571428571"
      ]
     },
     "execution_count": 12,
     "metadata": {},
     "output_type": "execute_result"
    }
   ],
   "source": [
    "methods.append('K nearest neighbors')\n",
    "# accuracy.append(knn_cv.score(x, y))\n",
    "accuracy.append(KNN.score(x, y))\n",
    "\n",
    "# knn_cv.score(x, y)\n",
    "KNN.score(x, y)"
   ]
  },
  {
   "cell_type": "code",
   "execution_count": 13,
   "id": "51295faa",
   "metadata": {
    "execution": {
     "iopub.execute_input": "2022-10-08T12:08:07.127601Z",
     "iopub.status.busy": "2022-10-08T12:08:07.126643Z",
     "iopub.status.idle": "2022-10-08T12:09:21.639315Z",
     "shell.execute_reply": "2022-10-08T12:09:21.638179Z"
    },
    "papermill": {
     "duration": 74.524819,
     "end_time": "2022-10-08T12:09:21.642007",
     "exception": false,
     "start_time": "2022-10-08T12:08:07.117188",
     "status": "completed"
    },
    "tags": []
   },
   "outputs": [],
   "source": [
    "# yhat = knn_cv.predict(x)\n",
    "yhat = KNN.predict(x)"
   ]
  },
  {
   "cell_type": "markdown",
   "id": "ac4e7784",
   "metadata": {
    "papermill": {
     "duration": 0.008537,
     "end_time": "2022-10-08T12:09:21.659778",
     "exception": false,
     "start_time": "2022-10-08T12:09:21.651241",
     "status": "completed"
    },
    "tags": []
   },
   "source": [
    "# SVM"
   ]
  },
  {
   "cell_type": "code",
   "execution_count": 14,
   "id": "6cb3a5a8",
   "metadata": {
    "execution": {
     "iopub.execute_input": "2022-10-08T12:09:21.679362Z",
     "iopub.status.busy": "2022-10-08T12:09:21.678594Z",
     "iopub.status.idle": "2022-10-08T12:09:21.684729Z",
     "shell.execute_reply": "2022-10-08T12:09:21.683874Z"
    },
    "papermill": {
     "duration": 0.018394,
     "end_time": "2022-10-08T12:09:21.687145",
     "exception": false,
     "start_time": "2022-10-08T12:09:21.668751",
     "status": "completed"
    },
    "tags": []
   },
   "outputs": [],
   "source": [
    "from sklearn.svm import SVC"
   ]
  },
  {
   "cell_type": "code",
   "execution_count": 15,
   "id": "f264e948",
   "metadata": {
    "execution": {
     "iopub.execute_input": "2022-10-08T12:09:21.705579Z",
     "iopub.status.busy": "2022-10-08T12:09:21.705305Z",
     "iopub.status.idle": "2022-10-08T12:09:21.709346Z",
     "shell.execute_reply": "2022-10-08T12:09:21.708484Z"
    },
    "papermill": {
     "duration": 0.015916,
     "end_time": "2022-10-08T12:09:21.711549",
     "exception": false,
     "start_time": "2022-10-08T12:09:21.695633",
     "status": "completed"
    },
    "tags": []
   },
   "outputs": [],
   "source": [
    "# parameters = {'kernel':('linear', 'rbf', 'poly', 'rbf', 'sigmoid'),\n",
    "#               'C': np.logspace(-3, 3, 5),\n",
    "#               'gamma':np.logspace(-3, 3, 5)}\n",
    "\n",
    "svm = SVC()"
   ]
  },
  {
   "cell_type": "code",
   "execution_count": 16,
   "id": "272f2de6",
   "metadata": {
    "execution": {
     "iopub.execute_input": "2022-10-08T12:09:21.730159Z",
     "iopub.status.busy": "2022-10-08T12:09:21.729654Z",
     "iopub.status.idle": "2022-10-08T12:11:20.520598Z",
     "shell.execute_reply": "2022-10-08T12:11:20.519589Z"
    },
    "papermill": {
     "duration": 118.811523,
     "end_time": "2022-10-08T12:11:20.531467",
     "exception": false,
     "start_time": "2022-10-08T12:09:21.719944",
     "status": "completed"
    },
    "tags": []
   },
   "outputs": [
    {
     "data": {
      "text/plain": [
       "SVC()"
      ]
     },
     "execution_count": 16,
     "metadata": {},
     "output_type": "execute_result"
    }
   ],
   "source": [
    "# svm_cv = GridSearchCV(svm, parameters, cv=10)\n",
    "# svm_cv.fit(x, y)\n",
    "svm.fit(x, y)"
   ]
  },
  {
   "cell_type": "code",
   "execution_count": 17,
   "id": "961eedee",
   "metadata": {
    "execution": {
     "iopub.execute_input": "2022-10-08T12:11:20.550821Z",
     "iopub.status.busy": "2022-10-08T12:11:20.549903Z",
     "iopub.status.idle": "2022-10-08T12:11:20.554343Z",
     "shell.execute_reply": "2022-10-08T12:11:20.553435Z"
    },
    "papermill": {
     "duration": 0.016168,
     "end_time": "2022-10-08T12:11:20.556413",
     "exception": false,
     "start_time": "2022-10-08T12:11:20.540245",
     "status": "completed"
    },
    "tags": []
   },
   "outputs": [],
   "source": [
    "# print(\"tuned hpyerparameters:(best parameters) \", svm_cv.best_params_)\n",
    "# print(\"accuracy: \", svm_cv.best_score_)"
   ]
  },
  {
   "cell_type": "code",
   "execution_count": 18,
   "id": "c7966c5b",
   "metadata": {
    "execution": {
     "iopub.execute_input": "2022-10-08T12:11:20.575808Z",
     "iopub.status.busy": "2022-10-08T12:11:20.575512Z",
     "iopub.status.idle": "2022-10-08T12:23:30.112595Z",
     "shell.execute_reply": "2022-10-08T12:23:30.111719Z"
    },
    "papermill": {
     "duration": 729.552852,
     "end_time": "2022-10-08T12:23:30.118386",
     "exception": false,
     "start_time": "2022-10-08T12:11:20.565534",
     "status": "completed"
    },
    "tags": []
   },
   "outputs": [
    {
     "data": {
      "text/plain": [
       "0.9891428571428571"
      ]
     },
     "execution_count": 18,
     "metadata": {},
     "output_type": "execute_result"
    }
   ],
   "source": [
    "methods.append('Support vector machine')\n",
    "# accuracy.append(svm_cv.score(x, y))\n",
    "accuracy.append(svm.score(x, y))\n",
    "\n",
    "# svm_cv.score(x, y)\n",
    "svm.score(x, y)"
   ]
  },
  {
   "cell_type": "code",
   "execution_count": 19,
   "id": "6b19ba56",
   "metadata": {
    "execution": {
     "iopub.execute_input": "2022-10-08T12:23:30.146790Z",
     "iopub.status.busy": "2022-10-08T12:23:30.146435Z",
     "iopub.status.idle": "2022-10-08T12:29:35.653032Z",
     "shell.execute_reply": "2022-10-08T12:29:35.651980Z"
    },
    "papermill": {
     "duration": 365.523357,
     "end_time": "2022-10-08T12:29:35.655511",
     "exception": false,
     "start_time": "2022-10-08T12:23:30.132154",
     "status": "completed"
    },
    "tags": []
   },
   "outputs": [],
   "source": [
    "# yhat = svm_cv.predict(x)\n",
    "yhat = svm.predict(x)"
   ]
  },
  {
   "cell_type": "code",
   "execution_count": 20,
   "id": "a55a9c37",
   "metadata": {
    "execution": {
     "iopub.execute_input": "2022-10-08T12:29:35.676608Z",
     "iopub.status.busy": "2022-10-08T12:29:35.675808Z",
     "iopub.status.idle": "2022-10-08T12:29:35.680373Z",
     "shell.execute_reply": "2022-10-08T12:29:35.679321Z"
    },
    "papermill": {
     "duration": 0.017709,
     "end_time": "2022-10-08T12:29:35.682757",
     "exception": false,
     "start_time": "2022-10-08T12:29:35.665048",
     "status": "completed"
    },
    "tags": []
   },
   "outputs": [],
   "source": [
    "import matplotlib.pyplot as plt"
   ]
  },
  {
   "cell_type": "code",
   "execution_count": 21,
   "id": "3be8ca4f",
   "metadata": {
    "execution": {
     "iopub.execute_input": "2022-10-08T12:29:35.701997Z",
     "iopub.status.busy": "2022-10-08T12:29:35.701709Z",
     "iopub.status.idle": "2022-10-08T12:29:35.887604Z",
     "shell.execute_reply": "2022-10-08T12:29:35.886602Z"
    },
    "papermill": {
     "duration": 0.198142,
     "end_time": "2022-10-08T12:29:35.889794",
     "exception": false,
     "start_time": "2022-10-08T12:29:35.691652",
     "status": "completed"
    },
    "tags": []
   },
   "outputs": [
    {
     "data": {
      "image/png": "[encoded data removed]",
      "text/plain": [
       "<Figure size 432x288 with 1 Axes>"
      ]
     },
     "metadata": {
      "needs_background": "light"
     },
     "output_type": "display_data"
    }
   ],
   "source": [
    "plt.barh(methods, accuracy)\n",
    "\n",
    "plt.xlabel('Accuracy')\n",
    "plt.ylabel('Method')\n",
    "plt.show()"
   ]
  },
  {
   "cell_type": "code",
   "execution_count": 22,
   "id": "d9bfcb8a",
   "metadata": {
    "execution": {
     "iopub.execute_input": "2022-10-08T12:29:35.910525Z",
     "iopub.status.busy": "2022-10-08T12:29:35.909725Z",
     "iopub.status.idle": "2022-10-08T12:33:39.217211Z",
     "shell.execute_reply": "2022-10-08T12:33:39.216198Z"
    },
    "papermill": {
     "duration": 243.320428,
     "end_time": "2022-10-08T12:33:39.219756",
     "exception": false,
     "start_time": "2022-10-08T12:29:35.899328",
     "status": "completed"
    },
    "tags": []
   },
   "outputs": [],
   "source": [
    "labels = svm.predict(df_test)"
   ]
  },
  {
   "cell_type": "code",
   "execution_count": 23,
   "id": "23494924",
   "metadata": {
    "execution": {
     "iopub.execute_input": "2022-10-08T12:33:39.240253Z",
     "iopub.status.busy": "2022-10-08T12:33:39.239942Z",
     "iopub.status.idle": "2022-10-08T12:33:39.244478Z",
     "shell.execute_reply": "2022-10-08T12:33:39.243442Z"
    },
    "papermill": {
     "duration": 0.017184,
     "end_time": "2022-10-08T12:33:39.246947",
     "exception": false,
     "start_time": "2022-10-08T12:33:39.229763",
     "status": "completed"
    },
    "tags": []
   },
   "outputs": [],
   "source": [
    "from sklearn.model_selection import train_test_split"
   ]
  },
  {
   "cell_type": "code",
   "execution_count": 24,
   "id": "29ca78e0",
   "metadata": {
    "execution": {
     "iopub.execute_input": "2022-10-08T12:33:39.266554Z",
     "iopub.status.busy": "2022-10-08T12:33:39.266287Z",
     "iopub.status.idle": "2022-10-08T12:33:39.347722Z",
     "shell.execute_reply": "2022-10-08T12:33:39.346737Z"
    },
    "papermill": {
     "duration": 0.093894,
     "end_time": "2022-10-08T12:33:39.350302",
     "exception": false,
     "start_time": "2022-10-08T12:33:39.256408",
     "status": "completed"
    },
    "tags": []
   },
   "outputs": [],
   "source": [
    "x = df_train.drop(columns=['label'], axis=1)\n",
    "y = df_train.label\n",
    "\n",
    "test = df_test"
   ]
  },
  {
   "cell_type": "code",
   "execution_count": 25,
   "id": "579907b0",
   "metadata": {
    "execution": {
     "iopub.execute_input": "2022-10-08T12:33:39.371787Z",
     "iopub.status.busy": "2022-10-08T12:33:39.369960Z",
     "iopub.status.idle": "2022-10-08T12:33:44.479222Z",
     "shell.execute_reply": "2022-10-08T12:33:44.478256Z"
    },
    "papermill": {
     "duration": 5.121714,
     "end_time": "2022-10-08T12:33:44.481546",
     "exception": false,
     "start_time": "2022-10-08T12:33:39.359832",
     "status": "completed"
    },
    "tags": []
   },
   "outputs": [],
   "source": [
    "import matplotlib.pyplot as plt\n",
    "import matplotlib.image as mpimg\n",
    "import seaborn as sns\n",
    "%matplotlib inline\n",
    "\n",
    "np.random.seed(2)\n",
    "\n",
    "from sklearn.model_selection import train_test_split\n",
    "from sklearn.metrics import confusion_matrix\n",
    "import itertools\n",
    "import tensorflow as tf\n",
    "from keras.utils.np_utils import to_categorical\n",
    "from keras.models import Sequential\n",
    "from keras.layers import Dense, Dropout, Flatten, Conv2D, MaxPool2D\n",
    "# from keras.optimizers import RMSprop\n",
    "from keras.preprocessing.image import ImageDataGenerator\n",
    "from keras.callbacks import ReduceLROnPlateau\n",
    "\n",
    "\n",
    "sns.set(style='white', context='notebook', palette='deep')"
   ]
  },
  {
   "cell_type": "code",
   "execution_count": 26,
   "id": "a038ca3e",
   "metadata": {
    "execution": {
     "iopub.execute_input": "2022-10-08T12:33:44.502413Z",
     "iopub.status.busy": "2022-10-08T12:33:44.501883Z",
     "iopub.status.idle": "2022-10-08T12:33:44.759532Z",
     "shell.execute_reply": "2022-10-08T12:33:44.758652Z"
    },
    "papermill": {
     "duration": 0.270508,
     "end_time": "2022-10-08T12:33:44.761747",
     "exception": false,
     "start_time": "2022-10-08T12:33:44.491239",
     "status": "completed"
    },
    "tags": []
   },
   "outputs": [
    {
     "name": "stderr",
     "output_type": "stream",
     "text": [
      "/opt/conda/lib/python3.7/site-packages/seaborn/_decorators.py:43: FutureWarning: Pass the following variable as a keyword arg: x. From version 0.12, the only valid positional argument will be `data`, and passing other arguments without an explicit keyword will result in an error or misinterpretation.\n",
      "  FutureWarning\n"
     ]
    },
    {
     "data": {
      "text/plain": [
       "<AxesSubplot:xlabel='label', ylabel='count'>"
      ]
     },
     "execution_count": 26,
     "metadata": {},
     "output_type": "execute_result"
    },
    {
     "data": {
      "image/png": "[encoded data removed]",
      "text/plain": [
       "<Figure size 432x288 with 1 Axes>"
      ]
     },
     "metadata": {},
     "output_type": "display_data"
    }
   ],
   "source": [
    "sns.countplot(y)"
   ]
  },
  {
   "cell_type": "code",
   "execution_count": 27,
   "id": "2baf2164",
   "metadata": {
    "execution": {
     "iopub.execute_input": "2022-10-08T12:33:44.782745Z",
     "iopub.status.busy": "2022-10-08T12:33:44.781941Z",
     "iopub.status.idle": "2022-10-08T12:33:44.952257Z",
     "shell.execute_reply": "2022-10-08T12:33:44.951184Z"
    },
    "papermill": {
     "duration": 0.183293,
     "end_time": "2022-10-08T12:33:44.955008",
     "exception": false,
     "start_time": "2022-10-08T12:33:44.771715",
     "status": "completed"
    },
    "tags": []
   },
   "outputs": [],
   "source": [
    "x = x / 255.0\n",
    "test = test / 255.0"
   ]
  },
  {
   "cell_type": "code",
   "execution_count": 28,
   "id": "e2533201",
   "metadata": {
    "execution": {
     "iopub.execute_input": "2022-10-08T12:33:44.975947Z",
     "iopub.status.busy": "2022-10-08T12:33:44.975612Z",
     "iopub.status.idle": "2022-10-08T12:33:44.980532Z",
     "shell.execute_reply": "2022-10-08T12:33:44.979537Z"
    },
    "papermill": {
     "duration": 0.017686,
     "end_time": "2022-10-08T12:33:44.982651",
     "exception": false,
     "start_time": "2022-10-08T12:33:44.964965",
     "status": "completed"
    },
    "tags": []
   },
   "outputs": [],
   "source": [
    "x = x.values.reshape(-1,28,28,1)\n",
    "test = test.values.reshape(-1,28,28,1)"
   ]
  },
  {
   "cell_type": "code",
   "execution_count": 29,
   "id": "bcdc2508",
   "metadata": {
    "execution": {
     "iopub.execute_input": "2022-10-08T12:33:45.004010Z",
     "iopub.status.busy": "2022-10-08T12:33:45.002496Z",
     "iopub.status.idle": "2022-10-08T12:33:45.009124Z",
     "shell.execute_reply": "2022-10-08T12:33:45.008254Z"
    },
    "papermill": {
     "duration": 0.019488,
     "end_time": "2022-10-08T12:33:45.011614",
     "exception": false,
     "start_time": "2022-10-08T12:33:44.992126",
     "status": "completed"
    },
    "tags": []
   },
   "outputs": [],
   "source": [
    "y = to_categorical(y, num_classes = 10)"
   ]
  },
  {
   "cell_type": "code",
   "execution_count": 30,
   "id": "9b917813",
   "metadata": {
    "execution": {
     "iopub.execute_input": "2022-10-08T12:33:45.032757Z",
     "iopub.status.busy": "2022-10-08T12:33:45.031944Z",
     "iopub.status.idle": "2022-10-08T12:33:45.036265Z",
     "shell.execute_reply": "2022-10-08T12:33:45.035268Z"
    },
    "papermill": {
     "duration": 0.017393,
     "end_time": "2022-10-08T12:33:45.038642",
     "exception": false,
     "start_time": "2022-10-08T12:33:45.021249",
     "status": "completed"
    },
    "tags": []
   },
   "outputs": [],
   "source": [
    "random_seed = 2"
   ]
  },
  {
   "cell_type": "code",
   "execution_count": 31,
   "id": "dc9053ba",
   "metadata": {
    "execution": {
     "iopub.execute_input": "2022-10-08T12:33:45.060620Z",
     "iopub.status.busy": "2022-10-08T12:33:45.059827Z",
     "iopub.status.idle": "2022-10-08T12:33:45.434153Z",
     "shell.execute_reply": "2022-10-08T12:33:45.433151Z"
    },
    "papermill": {
     "duration": 0.387539,
     "end_time": "2022-10-08T12:33:45.436634",
     "exception": false,
     "start_time": "2022-10-08T12:33:45.049095",
     "status": "completed"
    },
    "tags": []
   },
   "outputs": [],
   "source": [
    "x_train, x_val, y_train, y_val = train_test_split(x, y, test_size=0.1, random_state=random_seed)"
   ]
  },
  {
   "cell_type": "code",
   "execution_count": 32,
   "id": "43e25eb5",
   "metadata": {
    "execution": {
     "iopub.execute_input": "2022-10-08T12:33:45.457001Z",
     "iopub.status.busy": "2022-10-08T12:33:45.456664Z",
     "iopub.status.idle": "2022-10-08T12:33:45.706968Z",
     "shell.execute_reply": "2022-10-08T12:33:45.706053Z"
    },
    "papermill": {
     "duration": 0.262801,
     "end_time": "2022-10-08T12:33:45.709114",
     "exception": false,
     "start_time": "2022-10-08T12:33:45.446313",
     "status": "completed"
    },
    "tags": []
   },
   "outputs": [
    {
     "data": {
      "text/plain": [
       "<matplotlib.image.AxesImage at 0x7f25f5e1c790>"
      ]
     },
     "execution_count": 32,
     "metadata": {},
     "output_type": "execute_result"
    },
    {
     "data": {
      "image/png": "[encoded data removed]",
      "text/plain": [
       "<Figure size 432x288 with 1 Axes>"
      ]
     },
     "metadata": {},
     "output_type": "display_data"
    }
   ],
   "source": [
    "plt.imshow(x[0][:,:,0])"
   ]
  },
  {
   "cell_type": "code",
   "execution_count": 33,
   "id": "52e89af5",
   "metadata": {
    "execution": {
     "iopub.execute_input": "2022-10-08T12:33:45.729865Z",
     "iopub.status.busy": "2022-10-08T12:33:45.729560Z",
     "iopub.status.idle": "2022-10-08T12:33:48.750033Z",
     "shell.execute_reply": "2022-10-08T12:33:48.749103Z"
    },
    "papermill": {
     "duration": 3.033331,
     "end_time": "2022-10-08T12:33:48.752317",
     "exception": false,
     "start_time": "2022-10-08T12:33:45.718986",
     "status": "completed"
    },
    "tags": []
   },
   "outputs": [
    {
     "name": "stderr",
     "output_type": "stream",
     "text": [
      "2022-10-08 12:33:45.826269: I tensorflow/stream_executor/cuda/cuda_gpu_executor.cc:937] successful NUMA node read from SysFS had negative value (-1), but there must be at least one NUMA node, so returning NUMA node zero\n",
      "2022-10-08 12:33:45.929839: I tensorflow/stream_executor/cuda/cuda_gpu_executor.cc:937] successful NUMA node read from SysFS had negative value (-1), but there must be at least one NUMA node, so returning NUMA node zero\n",
      "2022-10-08 12:33:45.930585: I tensorflow/stream_executor/cuda/cuda_gpu_executor.cc:937] successful NUMA node read from SysFS had negative value (-1), but there must be at least one NUMA node, so returning NUMA node zero\n",
      "2022-10-08 12:33:45.932621: I tensorflow/core/platform/cpu_feature_guard.cc:142] This TensorFlow binary is optimized with oneAPI Deep Neural Network Library (oneDNN) to use the following CPU instructions in performance-critical operations:  AVX2 AVX512F FMA\n",
      "To enable them in other operations, rebuild TensorFlow with the appropriate compiler flags.\n",
      "2022-10-08 12:33:45.933024: I tensorflow/stream_executor/cuda/cuda_gpu_executor.cc:937] successful NUMA node read from SysFS had negative value (-1), but there must be at least one NUMA node, so returning NUMA node zero\n",
      "2022-10-08 12:33:45.933976: I tensorflow/stream_executor/cuda/cuda_gpu_executor.cc:937] successful NUMA node read from SysFS had negative value (-1), but there must be at least one NUMA node, so returning NUMA node zero\n",
      "2022-10-08 12:33:45.935020: I tensorflow/stream_executor/cuda/cuda_gpu_executor.cc:937] successful NUMA node read from SysFS had negative value (-1), but there must be at least one NUMA node, so returning NUMA node zero\n",
      "2022-10-08 12:33:48.287377: I tensorflow/stream_executor/cuda/cuda_gpu_executor.cc:937] successful NUMA node read from SysFS had negative value (-1), but there must be at least one NUMA node, so returning NUMA node zero\n",
      "2022-10-08 12:33:48.288338: I tensorflow/stream_executor/cuda/cuda_gpu_executor.cc:937] successful NUMA node read from SysFS had negative value (-1), but there must be at least one NUMA node, so returning NUMA node zero\n",
      "2022-10-08 12:33:48.289053: I tensorflow/stream_executor/cuda/cuda_gpu_executor.cc:937] successful NUMA node read from SysFS had negative value (-1), but there must be at least one NUMA node, so returning NUMA node zero\n",
      "2022-10-08 12:33:48.289639: I tensorflow/core/common_runtime/gpu/gpu_device.cc:1510] Created device /job:localhost/replica:0/task:0/device:GPU:0 with 15401 MB memory:  -> device: 0, name: Tesla P100-PCIE-16GB, pci bus id: 0000:00:04.0, compute capability: 6.0\n"
     ]
    }
   ],
   "source": [
    "model = Sequential()\n",
    "\n",
    "model.add(Conv2D(filters=32, kernel_size=(5, 5), padding='Same', activation='relu', input_shape=(28, 28, 1)))\n",
    "model.add(Conv2D(filters=32, kernel_size=(5, 5), padding='Same', activation='relu'))\n",
    "model.add(MaxPool2D(pool_size=(2, 2)))\n",
    "model.add(Dropout(0.25))\n",
    "\n",
    "\n",
    "model.add(Conv2D(filters=64, kernel_size=(3, 3), padding='Same', activation='relu'))\n",
    "model.add(Conv2D(filters=64, kernel_size=(3, 3), padding='Same', activation='relu'))\n",
    "model.add(MaxPool2D(pool_size=(2, 2), strides=(2, 2)))\n",
    "model.add(Dropout(0.25))\n",
    "\n",
    "\n",
    "model.add(Flatten())\n",
    "model.add(Dense(256, activation='relu'))\n",
    "model.add(Dropout(0.5))\n",
    "model.add(Dense(10, activation='softmax'))"
   ]
  },
  {
   "cell_type": "code",
   "execution_count": 34,
   "id": "54bfb3ef",
   "metadata": {
    "execution": {
     "iopub.execute_input": "2022-10-08T12:33:48.774035Z",
     "iopub.status.busy": "2022-10-08T12:33:48.773736Z",
     "iopub.status.idle": "2022-10-08T12:33:49.064441Z",
     "shell.execute_reply": "2022-10-08T12:33:49.063484Z"
    },
    "papermill": {
     "duration": 0.304462,
     "end_time": "2022-10-08T12:33:49.067124",
     "exception": false,
     "start_time": "2022-10-08T12:33:48.762662",
     "status": "completed"
    },
    "tags": []
   },
   "outputs": [],
   "source": [
    "optimizer = tf.keras.optimizers.RMSprop(learning_rate=0.001, rho=0.9, epsilon=1e-08, decay=0.0)"
   ]
  },
  {
   "cell_type": "code",
   "execution_count": 35,
   "id": "e09d9d25",
   "metadata": {
    "execution": {
     "iopub.execute_input": "2022-10-08T12:33:49.088426Z",
     "iopub.status.busy": "2022-10-08T12:33:49.088124Z",
     "iopub.status.idle": "2022-10-08T12:33:49.100349Z",
     "shell.execute_reply": "2022-10-08T12:33:49.099456Z"
    },
    "papermill": {
     "duration": 0.024956,
     "end_time": "2022-10-08T12:33:49.102446",
     "exception": false,
     "start_time": "2022-10-08T12:33:49.077490",
     "status": "completed"
    },
    "tags": []
   },
   "outputs": [],
   "source": [
    "model.compile(optimizer = optimizer , loss = \"categorical_crossentropy\", metrics=[\"accuracy\"])"
   ]
  },
  {
   "cell_type": "code",
   "execution_count": 36,
   "id": "e1373b09",
   "metadata": {
    "execution": {
     "iopub.execute_input": "2022-10-08T12:33:49.123096Z",
     "iopub.status.busy": "2022-10-08T12:33:49.122331Z",
     "iopub.status.idle": "2022-10-08T12:33:49.127386Z",
     "shell.execute_reply": "2022-10-08T12:33:49.126474Z"
    },
    "papermill": {
     "duration": 0.01729,
     "end_time": "2022-10-08T12:33:49.129299",
     "exception": false,
     "start_time": "2022-10-08T12:33:49.112009",
     "status": "completed"
    },
    "tags": []
   },
   "outputs": [],
   "source": [
    "learning_rate_reduction = ReduceLROnPlateau(monitor='val_acc', \n",
    "                                            patience=3, \n",
    "                                            verbose=1, \n",
    "                                            factor=0.5, \n",
    "                                            min_lr=0.00001)"
   ]
  },
  {
   "cell_type": "code",
   "execution_count": 37,
   "id": "ee695e5e",
   "metadata": {
    "execution": {
     "iopub.execute_input": "2022-10-08T12:33:49.149993Z",
     "iopub.status.busy": "2022-10-08T12:33:49.149724Z",
     "iopub.status.idle": "2022-10-08T12:33:49.153650Z",
     "shell.execute_reply": "2022-10-08T12:33:49.152718Z"
    },
    "papermill": {
     "duration": 0.016763,
     "end_time": "2022-10-08T12:33:49.155618",
     "exception": false,
     "start_time": "2022-10-08T12:33:49.138855",
     "status": "completed"
    },
    "tags": []
   },
   "outputs": [],
   "source": [
    "epochs = 1\n",
    "batch_size = 86"
   ]
  },
  {
   "cell_type": "code",
   "execution_count": 38,
   "id": "a49d23a5",
   "metadata": {
    "execution": {
     "iopub.execute_input": "2022-10-08T12:33:49.176238Z",
     "iopub.status.busy": "2022-10-08T12:33:49.175493Z",
     "iopub.status.idle": "2022-10-08T12:33:49.296319Z",
     "shell.execute_reply": "2022-10-08T12:33:49.295088Z"
    },
    "papermill": {
     "duration": 0.137722,
     "end_time": "2022-10-08T12:33:49.302938",
     "exception": false,
     "start_time": "2022-10-08T12:33:49.165216",
     "status": "completed"
    },
    "tags": []
   },
   "outputs": [],
   "source": [
    "datagen = ImageDataGenerator(\n",
    "        featurewise_center=False,\n",
    "        samplewise_center=False,\n",
    "        featurewise_std_normalization=False,\n",
    "        samplewise_std_normalization=False,\n",
    "        zca_whitening=False,\n",
    "        rotation_range=10,\n",
    "        zoom_range = 0.1,\n",
    "        width_shift_range=0.1,\n",
    "        height_shift_range=0.1,\n",
    "        horizontal_flip=False,\n",
    "        vertical_flip=False)\n",
    "\n",
    "datagen.fit(x_train)"
   ]
  },
  {
   "cell_type": "code",
   "execution_count": 39,
   "id": "6bba86da",
   "metadata": {
    "execution": {
     "iopub.execute_input": "2022-10-08T12:33:49.348458Z",
     "iopub.status.busy": "2022-10-08T12:33:49.347983Z",
     "iopub.status.idle": "2022-10-08T12:34:07.231455Z",
     "shell.execute_reply": "2022-10-08T12:34:07.230529Z"
    },
    "papermill": {
     "duration": 17.909119,
     "end_time": "2022-10-08T12:34:07.233870",
     "exception": false,
     "start_time": "2022-10-08T12:33:49.324751",
     "status": "completed"
    },
    "tags": []
   },
   "outputs": [
    {
     "name": "stderr",
     "output_type": "stream",
     "text": [
      "2022-10-08 12:33:49.542229: I tensorflow/compiler/mlir/mlir_graph_optimization_pass.cc:185] None of the MLIR Optimization Passes are enabled (registered 2)\n",
      "2022-10-08 12:33:51.268413: I tensorflow/stream_executor/cuda/cuda_dnn.cc:369] Loaded cuDNN version 8005\n"
     ]
    },
    {
     "name": "stdout",
     "output_type": "stream",
     "text": [
      "439/439 - 18s - loss: 0.4183 - accuracy: 0.8651 - val_loss: 0.0566 - val_accuracy: 0.9819\n"
     ]
    }
   ],
   "source": [
    "history = model.fit(datagen.flow(x_train,y_train, batch_size=batch_size),\n",
    "                              epochs=epochs, validation_data=(x_val,y_val),\n",
    "                              verbose=2, steps_per_epoch=x_train.shape[0] // batch_size,\n",
    "                              callbacks=[learning_rate_reduction])"
   ]
  },
  {
   "cell_type": "code",
   "execution_count": 40,
   "id": "cfe6715e",
   "metadata": {
    "execution": {
     "iopub.execute_input": "2022-10-08T12:34:07.255950Z",
     "iopub.status.busy": "2022-10-08T12:34:07.254976Z",
     "iopub.status.idle": "2022-10-08T12:34:10.142582Z",
     "shell.execute_reply": "2022-10-08T12:34:10.141401Z"
    },
    "papermill": {
     "duration": 2.901046,
     "end_time": "2022-10-08T12:34:10.145124",
     "exception": false,
     "start_time": "2022-10-08T12:34:07.244078",
     "status": "completed"
    },
    "tags": []
   },
   "outputs": [],
   "source": [
    "results = model.predict(test)\n",
    "\n",
    "results = np.argmax(results, axis=1)\n",
    "\n",
    "results = pd.Series(results, name=\"Label\")"
   ]
  },
  {
   "cell_type": "code",
   "execution_count": 41,
   "id": "e7e97d66",
   "metadata": {
    "execution": {
     "iopub.execute_input": "2022-10-08T12:34:10.167519Z",
     "iopub.status.busy": "2022-10-08T12:34:10.166616Z",
     "iopub.status.idle": "2022-10-08T12:34:10.199534Z",
     "shell.execute_reply": "2022-10-08T12:34:10.198686Z"
    },
    "papermill": {
     "duration": 0.046496,
     "end_time": "2022-10-08T12:34:10.201776",
     "exception": false,
     "start_time": "2022-10-08T12:34:10.155280",
     "status": "completed"
    },
    "tags": []
   },
   "outputs": [],
   "source": [
    "submission = pd.concat([pd.Series(range(1, 28001), name='ImageId'), results], axis=1)\n",
    "\n",
    "submission.to_csv(\"cnn_mnist_datagen.csv\", index=False)"
   ]
  },
  {
   "cell_type": "code",
   "execution_count": null,
   "id": "01120daf",
   "metadata": {
    "papermill": {
     "duration": 0.014043,
     "end_time": "2022-10-08T12:34:10.225545",
     "exception": false,
     "start_time": "2022-10-08T12:34:10.211502",
     "status": "completed"
    },
    "tags": []
   },
   "outputs": [],
   "source": []
  }
 ],
 "metadata": {
  "kernelspec": {
   "display_name": "Python 3",
   "language": "python",
   "name": "python3"
  },
  "language_info": {
   "codemirror_mode": {
    "name": "ipython",
    "version": 3
   },
   "file_extension": ".py",
   "mimetype": "text/x-python",
   "name": "python",
   "nbconvert_exporter": "python",
   "pygments_lexer": "ipython3",
   "version": "3.7.12"
  },
  "papermill": {
   "default_parameters": {},
   "duration": 1727.469194,
   "end_time": "2022-10-08T12:34:13.476140",
   "environment_variables": {},
   "exception": null,
   "input_path": "__notebook__.ipynb",
   "output_path": "__notebook__.ipynb",
   "parameters": {},
   "start_time": "2022-10-08T12:05:26.006946",
   "version": "2.3.4"
  }
 },
 "nbformat": 4,
 "nbformat_minor": 5
}
